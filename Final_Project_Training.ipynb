{
 "cells": [
  {
   "cell_type": "code",
   "execution_count": 360,
   "metadata": {},
   "outputs": [],
   "source": []
  },
  {
   "cell_type": "markdown",
   "metadata": {},
   "source": [
    "# Adam Cabral\n",
    "## CSC 310 Final Project Proposal\n",
    "\n",
    "### Individual App Project: Automated Car Appraiser\n",
    "\n",
    "\n",
    "My app I have made is a Car Appraiser. It is a basic GUI based app using Tkinter that has multiple fields for the user to fill in regarding their cars information. The information given is then fed through the KNN Model that is trained here in this Jupyter Notebook.\n",
    "\n",
    "<img src=\"gui-screenshot.jpg\" width=500>\n",
    "\n",
    "\n"
   ]
  },
  {
   "cell_type": "code",
   "execution_count": null,
   "metadata": {},
   "outputs": [],
   "source": [
    "import pandas as pd\n",
    "import numpy as np\n",
    "import matplotlib.pyplot as plt\n",
    "import seaborn as sns\n",
    "import pickle\n",
    "import datetime\n",
    "from sklearn.model_selection import GridSearchCV\n",
    "from sklearn.pipeline import make_pipeline\n",
    "from sklearn.neural_network import MLPRegressor\n",
    "from sklearn.linear_model import LinearRegression\n",
    "from sklearn.model_selection import cross_val_score\n",
    "from sklearn.neighbors import KNeighborsRegressor\n",
    "from sklearn.model_selection import train_test_split\n",
    "from sklearn import preprocessing\n",
    "from sklearn import metrics"
   ]
  },
  {
   "cell_type": "code",
   "execution_count": null,
   "metadata": {},
   "outputs": [],
   "source": []
  },
  {
   "cell_type": "code",
   "execution_count": 344,
   "metadata": {},
   "outputs": [],
   "source": [
    "df = pd.read_csv(\"autos.csv\")"
   ]
  },
  {
   "cell_type": "markdown",
   "metadata": {},
   "source": [
    "## Clean up data\n",
    "\n",
    "1. Drop useless columns\n",
    "2. Convert German words/units to English/Imperial units\n",
    "3. Deal with NaN's"
   ]
  },
  {
   "cell_type": "code",
   "execution_count": 345,
   "metadata": {},
   "outputs": [],
   "source": [
    "# Drop useless columns \n",
    "df.drop([\"name\", \"abtest\", \"seller\", \"dateCrawled\", \"offerType\", \"dateCreated\", \"nrOfPictures\", \"postalCode\", \"lastSeen\"], axis=1, inplace=True)"
   ]
  },
  {
   "cell_type": "markdown",
   "metadata": {},
   "source": [
    "#### Fill NaN's with data"
   ]
  },
  {
   "cell_type": "code",
   "execution_count": 346,
   "metadata": {},
   "outputs": [],
   "source": [
    "df.rename(columns={\"kilometer\":\"miles\", \"powerPS\":\"HPower\"}, inplace=True)\n",
    "\n",
    "df.vehicleType.fillna(\"Other\", inplace=True)\n",
    "df.gearbox.fillna(\"manual\", inplace=True)\n",
    "df.model.fillna(\"Other\", inplace=True)\n",
    "df.notRepairedDamage.fillna(\"no\", inplace=True)\n",
    "df.fuelType.fillna(\"Gasoline\", inplace=True)\n",
    "df.price.fillna(df.price.mean(), inplace=True)\n",
    "df.miles.fillna(df.price.mean(), inplace=True)"
   ]
  },
  {
   "cell_type": "markdown",
   "metadata": {},
   "source": [
    "#### Translate German words to English"
   ]
  },
  {
   "cell_type": "code",
   "execution_count": 347,
   "metadata": {},
   "outputs": [],
   "source": [
    "#Map German words to english\n",
    "df['gearbox'] = df['gearbox'].map({'manuell':'manual', 'automatik':'automatic', 'manuel':'manuel'}).astype(str)\n",
    "df['miles'] = df['miles'].map(lambda x: int(x*0.62137))\n",
    "# df.rename(columns={\"kilometer\":\"miles\", \"powerPS\":\"HPower\"}, inplace=True)\n",
    "\n",
    "# lpg: Liquefied petroleum gas\n",
    "# benzin: Regular Gasoline\n",
    "# cng: Compressed Natural Gas\n",
    "# andere: Other\n",
    "# elektro: Electric\n",
    "df['fuelType'] = df['fuelType'].map({\"benzin\":\"Gasoline\", \"andere\":\"other\", \"elektro\":\"electric\", \"lpg\":\"lpg\", \"cng\":\"cng\", \"diesel\":\"diesel\", \"hybrid\":\"hybrid\", \"Other\":\"Other\", \"Gasoline\":\"Gasoline\"})\n",
    "\n",
    "df['notRepairedDamage'] = df['notRepairedDamage'].map({\"nein\":\"no\", \"ja\":\"yes\"})\n",
    "df['vehicleType'] = df['vehicleType'].map({'limousine': 'sedan', 'kleinwagen':'mini','kombi':'combination', \"bus\":\"bus\",'cabrio':'convertable',\"coupe\":\"coupe\", \"suv\":\"suv\", 'andere': 'Other', 'Other':\"Other\"})\n"
   ]
  },
  {
   "cell_type": "code",
   "execution_count": null,
   "metadata": {},
   "outputs": [],
   "source": []
  },
  {
   "cell_type": "markdown",
   "metadata": {},
   "source": [
    "#### Enumerate Values for Regression"
   ]
  },
  {
   "cell_type": "code",
   "execution_count": 348,
   "metadata": {},
   "outputs": [],
   "source": [
    "# Vehicle Type Enumeration\n",
    "vehicleTypes = {}\n",
    "count = 0\n",
    "for entry in df['vehicleType']:\n",
    "    if entry not in vehicleTypes:\n",
    "        vehicleTypes[entry] = count\n",
    "        count+=1\n",
    "# df[\"vehicleType\"] = df['vehicleType'].map(vehicleTypes)\n",
    "\n",
    "# Gearbox Enumeration\n",
    "count = 0\n",
    "gearBoxes = {}\n",
    "for entry in df['gearbox']:\n",
    "    if entry not in gearBoxes:\n",
    "        gearBoxes[entry] = count\n",
    "        count+=1\n",
    "# df[\"gearbox\"] = df['gearbox'].map(gearBoxes)\n",
    "\n",
    "# Model Enumeration\n",
    "count = 0\n",
    "models = {}\n",
    "for entry in df['model']:\n",
    "    if entry not in models:\n",
    "        models[entry] = count\n",
    "        count+=1\n",
    "# df[\"model\"] = df[\"model\"].map(models)\n",
    "\n",
    "# Fuel type Enumeration\n",
    "count = 0\n",
    "fuelTypes = {}\n",
    "for entry in df['fuelType']:\n",
    "    if entry not in fuelTypes:\n",
    "        fuelTypes[entry] = count\n",
    "        count+=1\n",
    "# df[\"fuelType\"] = df[\"fuelType\"].map(fuelTypes)\n",
    "\n",
    "# Brand Enumeration\n",
    "count = 0\n",
    "brands = {}\n",
    "\n",
    "for entry in df['brand']:\n",
    "    if entry not in brands:\n",
    "        brands[entry] = count\n",
    "        count+=1\n",
    "\n",
    "# df['brand'] = df['brand'].map(brands)\n",
    "\n",
    "count = 0\n",
    "damages = {}\n",
    "for entry in df[\"notRepairedDamage\"]:\n",
    "    if entry not in damages:\n",
    "        damages[entry] = count\n",
    "        count+=1\n",
    "del damages[np.nan]\n",
    "# df[\"notRepairedDamage\"] = df[\"notRepairedDamage\"].map(damages)\n",
    "\n",
    "\n",
    "\n",
    "# Make Dummy Variables for Classification Columns\n",
    "cols = ['vehicleType','gearbox','model','fuelType','brand', \"notRepairedDamage\"]\n",
    "\n",
    "df = pd.get_dummies(df, columns=cols)\n",
    "\n",
    "# Remove outliers\n",
    "df = df[(df.price <= 40000) & (df.price >= 300)]"
   ]
  },
  {
   "cell_type": "code",
   "execution_count": null,
   "metadata": {},
   "outputs": [],
   "source": []
  },
  {
   "cell_type": "markdown",
   "metadata": {},
   "source": [
    "### Setup Training and Testing Sets"
   ]
  },
  {
   "cell_type": "code",
   "execution_count": 349,
   "metadata": {},
   "outputs": [],
   "source": [
    "\n",
    "# min_max = preprocessing.MinMaxScaler()\n",
    "# feat_min_max = min_max.fit_transform( df.drop([\"price\"], axis=1))\n",
    "\n",
    "target_df = df[\"price\"]\n",
    "feat_df = df.drop([\"price\"], axis=1)\n"
   ]
  },
  {
   "cell_type": "code",
   "execution_count": 350,
   "metadata": {},
   "outputs": [],
   "source": [
    "\n",
    "\n",
    "train_feat, test_feat, train_targ, test_targ = train_test_split(feat_df, target_df, train_size=0.7, test_size=0.3, shuffle=True)\n",
    "\n",
    "# train_feat, test_feat, train_targ, test_targ = train_test_split(feat_min_max, target_df, train_size=0.7, test_size=0.3)\n",
    "\n",
    "\n"
   ]
  },
  {
   "cell_type": "markdown",
   "metadata": {},
   "source": [
    "# Linear Regression Model"
   ]
  },
  {
   "cell_type": "code",
   "execution_count": 269,
   "metadata": {},
   "outputs": [],
   "source": [
    "pipeline = make_pipeline(LinearRegression())\n",
    "\n",
    "linear_model = pipeline.fit(train_feat, train_targ)\n",
    "# linear_model = LinearRegression(fit_intercept=True)\n",
    "# linear_model.fit(train_feat, train_targ)"
   ]
  },
  {
   "cell_type": "code",
   "execution_count": 270,
   "metadata": {},
   "outputs": [
    {
     "name": "stdout",
     "output_type": "stream",
     "text": [
      "Fold Accuracies: [-3.54761333e+04  5.67843059e-01 -3.06782440e+06]\n",
      "Mean Linear Regression Accuracy: -1034433.3230997379\n"
     ]
    }
   ],
   "source": [
    "linear_scores = cross_val_score(linear_model, test_feat, test_targ, cv=3)\n",
    "print(\"Fold Accuracies: {}\".format(linear_scores))\n",
    "print(\"Mean Linear Regression Accuracy: {}\".format(linear_scores.mean()))"
   ]
  },
  {
   "cell_type": "code",
   "execution_count": 271,
   "metadata": {},
   "outputs": [
    {
     "name": "stdout",
     "output_type": "stream",
     "text": [
      "1500\n",
      "[2243.94968691]\n"
     ]
    },
    {
     "name": "stderr",
     "output_type": "stream",
     "text": [
      "/Applications/anaconda3/lib/python3.7/site-packages/pandas/core/generic.py:3917: SettingWithCopyWarning: \n",
      "A value is trying to be set on a copy of a slice from a DataFrame\n",
      "\n",
      "See the caveats in the documentation: http://pandas.pydata.org/pandas-docs/stable/user_guide/indexing.html#returning-a-view-versus-a-copy\n",
      "  self._update_inplace(obj)\n"
     ]
    }
   ],
   "source": [
    "test = df.iloc[3,:]\n",
    "print(test.price)\n",
    "test.drop([\"price\"], inplace=True)\n",
    "print(linear_model.predict([test]))\n"
   ]
  },
  {
   "cell_type": "markdown",
   "metadata": {},
   "source": [
    "# MLP Model"
   ]
  },
  {
   "cell_type": "code",
   "execution_count": 233,
   "metadata": {},
   "outputs": [
    {
     "name": "stdout",
     "output_type": "stream",
     "text": [
      "Iteration 1, loss = 17238606.93852156\n",
      "Iteration 2, loss = 13343044.52682219\n",
      "Iteration 3, loss = 11243414.63982823\n",
      "Iteration 4, loss = 10323882.22066487\n",
      "Iteration 5, loss = 9907053.29248509\n",
      "Iteration 6, loss = 9611432.61440523\n",
      "Iteration 7, loss = 9440958.07875784\n",
      "Iteration 8, loss = 9265122.18711707\n",
      "Iteration 9, loss = 9121857.71370903\n",
      "Iteration 10, loss = 8935755.72172730\n",
      "Iteration 11, loss = 8807202.38586879\n",
      "Iteration 12, loss = 8688701.53802719\n",
      "Iteration 13, loss = 8559949.62333084\n",
      "Iteration 14, loss = 8423574.76094823\n",
      "Iteration 15, loss = 8335973.40978088\n",
      "Iteration 16, loss = 8208557.04810291\n",
      "Iteration 17, loss = 8144357.17400348\n",
      "Iteration 18, loss = 8064344.39261534\n",
      "Iteration 19, loss = 7968025.66175765\n",
      "Iteration 20, loss = 7925907.67784066\n",
      "Iteration 21, loss = 7852595.91347859\n",
      "Iteration 22, loss = 7834237.84503838\n",
      "Iteration 23, loss = 7754087.25349305\n",
      "Iteration 24, loss = 7734185.25190200\n",
      "Iteration 25, loss = 7699283.99044841\n",
      "Iteration 26, loss = 7663477.90055393\n",
      "Iteration 27, loss = 7670845.27937626\n",
      "Iteration 28, loss = 7613749.60175943\n",
      "Iteration 29, loss = 7602877.35674382\n",
      "Iteration 30, loss = 7578456.13292693\n",
      "Iteration 31, loss = 7538567.88984348\n",
      "Iteration 32, loss = 7544286.82045378\n",
      "Iteration 33, loss = 7517457.07325173\n",
      "Iteration 34, loss = 7467333.12901855\n",
      "Iteration 35, loss = 7473350.23454588\n",
      "Iteration 36, loss = 7422549.49134541\n",
      "Iteration 37, loss = 7430466.10049689\n",
      "Iteration 38, loss = 7352209.37875574\n",
      "Iteration 39, loss = 7354314.37163206\n",
      "Iteration 40, loss = 7268211.75970749\n",
      "Iteration 41, loss = 7260360.40449459\n",
      "Iteration 42, loss = 7235099.18606248\n",
      "Iteration 43, loss = 7216208.78354317\n",
      "Iteration 44, loss = 7159038.29987316\n",
      "Iteration 45, loss = 7169653.74691330\n",
      "Iteration 46, loss = 7141184.85418606\n",
      "Iteration 47, loss = 7099390.58892489\n",
      "Iteration 48, loss = 7102543.13913134\n",
      "Iteration 49, loss = 7079418.92455324\n",
      "Iteration 50, loss = 7073888.05372479\n",
      "Iteration 51, loss = 7060591.39720475\n",
      "Iteration 52, loss = 7046037.28124780\n",
      "Iteration 53, loss = 7017434.19177608\n",
      "Iteration 54, loss = 7020567.44420325\n",
      "Iteration 55, loss = 7027956.96934900\n",
      "Iteration 56, loss = 7000299.94151547\n",
      "Iteration 57, loss = 6960545.54339504\n",
      "Iteration 58, loss = 6932807.25465261\n",
      "Iteration 59, loss = 6981980.47440884\n",
      "Iteration 60, loss = 6925938.53895014\n",
      "Iteration 61, loss = 6904615.09482796\n",
      "Iteration 62, loss = 6880275.59164849\n",
      "Iteration 63, loss = 6887832.73963257\n",
      "Iteration 64, loss = 6824846.38231554\n",
      "Iteration 65, loss = 6836040.25309613\n",
      "Iteration 66, loss = 6840970.78525988\n",
      "Iteration 67, loss = 6774315.44636836\n",
      "Iteration 68, loss = 6775181.80216377\n",
      "Iteration 69, loss = 6732107.46948973\n",
      "Iteration 70, loss = 6732529.41820991\n",
      "Iteration 71, loss = 6691046.96585945\n",
      "Iteration 72, loss = 6698916.92803951\n",
      "Iteration 73, loss = 6651580.81383352\n",
      "Iteration 74, loss = 6648053.28867062\n",
      "Iteration 75, loss = 6640920.73217857\n",
      "Iteration 76, loss = 6579855.12572550\n",
      "Iteration 77, loss = 6592637.59769649\n",
      "Iteration 78, loss = 6576021.17660021\n",
      "Iteration 79, loss = 6514888.27920964\n",
      "Iteration 80, loss = 6483788.98127899\n",
      "Iteration 81, loss = 6495172.41048790\n",
      "Iteration 82, loss = 6463537.00640535\n",
      "Iteration 83, loss = 6447419.92954539\n",
      "Iteration 84, loss = 6415177.90506465\n",
      "Iteration 85, loss = 6375607.76377035\n",
      "Iteration 86, loss = 6376197.22751204\n",
      "Iteration 87, loss = 6379453.93225167\n",
      "Iteration 88, loss = 6354278.92238741\n",
      "Iteration 89, loss = 6325110.16372774\n",
      "Iteration 90, loss = 6317680.17124678\n",
      "Iteration 91, loss = 6306982.56288028\n",
      "Iteration 92, loss = 6252504.46902874\n",
      "Iteration 93, loss = 6271394.27595474\n",
      "Iteration 94, loss = 6247887.98089446\n",
      "Iteration 95, loss = 6243059.33618775\n",
      "Iteration 96, loss = 6220159.51895142\n",
      "Iteration 97, loss = 6188928.65404030\n",
      "Iteration 98, loss = 6222566.47365517\n",
      "Iteration 99, loss = 6161084.67519366\n",
      "Iteration 100, loss = 6194884.85160907\n",
      "Iteration 101, loss = 6183666.09428706\n",
      "Iteration 102, loss = 6176431.62985561\n",
      "Iteration 103, loss = 6129375.76617131\n",
      "Iteration 104, loss = 6155293.51254969\n",
      "Iteration 105, loss = 6111818.79672383\n",
      "Iteration 106, loss = 6146555.56272298\n",
      "Iteration 107, loss = 6098897.37328893\n",
      "Iteration 108, loss = 6099186.64082665\n",
      "Iteration 109, loss = 6063550.60226252\n",
      "Iteration 110, loss = 6064885.07418388\n",
      "Iteration 111, loss = 6057952.13811485\n",
      "Iteration 112, loss = 6085366.26979271\n",
      "Iteration 113, loss = 6053586.94705656\n",
      "Iteration 114, loss = 6035500.06344666\n",
      "Iteration 115, loss = 6020613.15981849\n",
      "Iteration 116, loss = 6062641.25399688\n",
      "Iteration 117, loss = 5991428.17433565\n",
      "Iteration 118, loss = 5992040.92773020\n",
      "Iteration 119, loss = 6012610.51318496\n",
      "Iteration 120, loss = 6007291.30068596\n",
      "Iteration 121, loss = 5992772.74893169\n",
      "Iteration 122, loss = 5971504.21555465\n",
      "Iteration 123, loss = 5991592.47946936\n",
      "Iteration 124, loss = 5949158.03889395\n",
      "Iteration 125, loss = 5970783.05801081\n",
      "Iteration 126, loss = 5947451.39559031\n",
      "Iteration 127, loss = 5946706.44787197\n",
      "Iteration 128, loss = 5933192.62183121\n",
      "Iteration 129, loss = 5915082.17858617\n",
      "Iteration 130, loss = 5937643.09822408\n",
      "Iteration 131, loss = 5945085.31055330\n",
      "Iteration 132, loss = 5878155.04704078\n",
      "Iteration 133, loss = 5941449.14283418\n",
      "Iteration 134, loss = 5926577.41980880\n",
      "Iteration 135, loss = 5894234.74972717\n",
      "Iteration 136, loss = 5934687.71507827\n",
      "Iteration 137, loss = 5901025.02215186\n",
      "Iteration 138, loss = 5912603.68486196\n",
      "Iteration 139, loss = 5882732.69768714\n",
      "Iteration 140, loss = 5866493.36520208\n",
      "Iteration 141, loss = 5897892.40590104\n",
      "Iteration 142, loss = 5902927.17378301\n",
      "Iteration 143, loss = 5901585.48887605\n",
      "Iteration 144, loss = 5882458.20193845\n",
      "Iteration 145, loss = 5851866.62683012\n",
      "Iteration 146, loss = 5882327.82368581\n",
      "Iteration 147, loss = 5878326.50246693\n",
      "Iteration 148, loss = 5841017.41444524\n",
      "Iteration 149, loss = 5899846.74879966\n",
      "Iteration 150, loss = 5848381.78306781\n",
      "Iteration 151, loss = 5849780.02127539\n",
      "Iteration 152, loss = 5834459.63377541\n",
      "Iteration 153, loss = 5821923.94099735\n",
      "Iteration 154, loss = 5830500.34584022\n",
      "Iteration 155, loss = 5835658.87487302\n",
      "Iteration 156, loss = 5817404.00139268\n",
      "Iteration 157, loss = 5820831.53893663\n",
      "Iteration 158, loss = 5811773.98757933\n",
      "Iteration 159, loss = 5841263.39975454\n",
      "Iteration 160, loss = 5814070.31512923\n",
      "Iteration 161, loss = 5819390.14295578\n",
      "Iteration 162, loss = 5783881.97147394\n",
      "Iteration 163, loss = 5795080.86099917\n",
      "Iteration 164, loss = 5791284.51251610\n",
      "Iteration 165, loss = 5800015.04890214\n",
      "Iteration 166, loss = 5790188.50230339\n",
      "Iteration 167, loss = 5763823.65541535\n",
      "Iteration 168, loss = 5806355.19626627\n",
      "Iteration 169, loss = 5765087.47544293\n",
      "Iteration 170, loss = 5791486.76386642\n",
      "Iteration 171, loss = 5782599.02758682\n",
      "Iteration 172, loss = 5747659.47552560\n",
      "Iteration 173, loss = 5761231.78616913\n",
      "Iteration 174, loss = 5752719.59229090\n",
      "Iteration 175, loss = 5744046.25022032\n",
      "Iteration 176, loss = 5760171.31319108\n",
      "Iteration 177, loss = 5727389.54367232\n",
      "Iteration 178, loss = 5736195.76683525\n",
      "Iteration 179, loss = 5738447.10425290\n",
      "Iteration 180, loss = 5739271.64653720\n",
      "Iteration 181, loss = 5736757.44504923\n",
      "Iteration 182, loss = 5741640.72001778\n",
      "Iteration 183, loss = 5720152.55601073\n",
      "Iteration 184, loss = 5728178.93666902\n",
      "Iteration 185, loss = 5694089.84504505\n",
      "Iteration 186, loss = 5718671.43282114\n",
      "Iteration 187, loss = 5720241.84916347\n",
      "Iteration 188, loss = 5713819.63594242\n",
      "Iteration 189, loss = 5718990.81580629\n",
      "Iteration 190, loss = 5687449.70210124\n",
      "Iteration 191, loss = 5684921.28388012\n",
      "Iteration 192, loss = 5686647.86774258\n",
      "Iteration 193, loss = 5674801.81171329\n",
      "Iteration 194, loss = 5683817.05352633\n",
      "Iteration 195, loss = 5688285.08870825\n",
      "Iteration 196, loss = 5664883.47768018\n",
      "Iteration 197, loss = 5667644.32923692\n",
      "Iteration 198, loss = 5688840.79062291\n",
      "Iteration 199, loss = 5685913.32941580\n",
      "Iteration 200, loss = 5658692.31979400\n"
     ]
    },
    {
     "name": "stderr",
     "output_type": "stream",
     "text": [
      "/Applications/anaconda3/lib/python3.7/site-packages/sklearn/neural_network/multilayer_perceptron.py:566: ConvergenceWarning: Stochastic Optimizer: Maximum iterations (200) reached and the optimization hasn't converged yet.\n",
      "  % self.max_iter, ConvergenceWarning)\n"
     ]
    }
   ],
   "source": [
    "# seed = np.random.seed()\n",
    "\n",
    "\n",
    "pipeline = make_pipeline(MLPRegressor())\n",
    "# mlp_model = MLPRegressor(activation=\"logistic\", hidden_layer_sizes=(25,50,100), max_iter=100, verbose=True, learning_rate = 'adaptive', learning_rate_init = 100)\n",
    "mlp_model = pipeline.fit(train_feat, train_targ)"
   ]
  },
  {
   "cell_type": "code",
   "execution_count": 234,
   "metadata": {},
   "outputs": [
    {
     "name": "stdout",
     "output_type": "stream",
     "text": [
      "MLP R^2 score: 0.7187905051709462\n"
     ]
    }
   ],
   "source": [
    "print(\"MLP R^2 score: {}\".format(mlp_model.score(test_feat, test_targ)))"
   ]
  },
  {
   "cell_type": "markdown",
   "metadata": {},
   "source": [
    "## KNN Regression"
   ]
  },
  {
   "cell_type": "code",
   "execution_count": 357,
   "metadata": {},
   "outputs": [],
   "source": [
    "knn_model = KNeighborsRegressor(n_neighbors=5, weights = \"distance\")"
   ]
  },
  {
   "cell_type": "code",
   "execution_count": 358,
   "metadata": {},
   "outputs": [
    {
     "data": {
      "text/plain": [
       "KNeighborsRegressor(algorithm='auto', leaf_size=30, metric='minkowski',\n",
       "                    metric_params=None, n_jobs=None, n_neighbors=5, p=2,\n",
       "                    weights='distance')"
      ]
     },
     "execution_count": 358,
     "metadata": {},
     "output_type": "execute_result"
    }
   ],
   "source": [
    "knn_model.fit(train_feat, train_targ)"
   ]
  },
  {
   "cell_type": "code",
   "execution_count": 359,
   "metadata": {},
   "outputs": [
    {
     "name": "stdout",
     "output_type": "stream",
     "text": [
      "KNN R^2 score : 0.8294540905499531\n"
     ]
    }
   ],
   "source": [
    "print(\"KNN R^2 score : {}\".format(knn_model.score(test_feat,test_targ)))"
   ]
  },
  {
   "cell_type": "markdown",
   "metadata": {},
   "source": [
    "# Export model and dictionaries using pickle"
   ]
  },
  {
   "cell_type": "code",
   "execution_count": 337,
   "metadata": {},
   "outputs": [
    {
     "data": {
      "text/plain": [
       "yearOfRegistration       0\n",
       "HPower                   0\n",
       "miles                    0\n",
       "monthOfRegistration      0\n",
       "vehicleType_Other        0\n",
       "                        ..\n",
       "brand_trabant            0\n",
       "brand_volkswagen         0\n",
       "brand_volvo              0\n",
       "notRepairedDamage_no     0\n",
       "notRepairedDamage_yes    0\n",
       "Name: 2, Length: 316, dtype: int64"
      ]
     },
     "execution_count": 337,
     "metadata": {},
     "output_type": "execute_result"
    }
   ],
   "source": [
    "# Make a default test row\n",
    "test_df = feat_df.iloc[2,:].copy()\n",
    "\n",
    "for i in range(len(test_df)):\n",
    "    test_df[i] = 0\n",
    "\n",
    "test_df"
   ]
  },
  {
   "cell_type": "code",
   "execution_count": 338,
   "metadata": {},
   "outputs": [],
   "source": [
    "# index 0 = MLP Model \n",
    "# index 1 = Vehicle Types\n",
    "# index 2 = Gearbox Types\n",
    "# index 3 = Model Types\n",
    "# index 4 = Fuel Types\n",
    "# index 5 = Make Types\n",
    "# index 6 = Damage Types\n",
    "structures = [knn_model, vehicleTypes, gearBoxes, models, fuelTypes, brands, damages]"
   ]
  },
  {
   "cell_type": "code",
   "execution_count": 341,
   "metadata": {},
   "outputs": [
    {
     "data": {
      "text/plain": [
       "'data_structures-knn3.sav'"
      ]
     },
     "execution_count": 341,
     "metadata": {},
     "output_type": "execute_result"
    }
   ],
   "source": [
    "output_filename = 'data_structures-knn3.sav'\n",
    "output_filename"
   ]
  },
  {
   "cell_type": "code",
   "execution_count": 342,
   "metadata": {},
   "outputs": [],
   "source": [
    "pickle.dump(structures, open(output_filename, 'wb'))\n",
    "pickle.dump(test_df, open(\"default_df.sav\", 'wb'))"
   ]
  },
  {
   "cell_type": "markdown",
   "metadata": {},
   "source": [
    "### Test that the pickle export worked"
   ]
  },
  {
   "cell_type": "code",
   "execution_count": 334,
   "metadata": {},
   "outputs": [],
   "source": [
    "\n",
    "test = pickle.load(open(output_filename, 'rb'))\n",
    "aaa = pickle.load(open(\"default_df.sav\", 'rb'))"
   ]
  },
  {
   "cell_type": "code",
   "execution_count": 335,
   "metadata": {},
   "outputs": [
    {
     "data": {
      "text/plain": [
       "array([4630.])"
      ]
     },
     "execution_count": 335,
     "metadata": {},
     "output_type": "execute_result"
    }
   ],
   "source": [
    "\n",
    "test[0].predict([aaa])"
   ]
  },
  {
   "cell_type": "code",
   "execution_count": 336,
   "metadata": {},
   "outputs": [
    {
     "data": {
      "text/plain": [
       "price                      650\n",
       "yearOfRegistration        1995\n",
       "HPower                     102\n",
       "miles                    93205\n",
       "monthOfRegistration         10\n",
       "                         ...  \n",
       "brand_trabant                0\n",
       "brand_volkswagen             0\n",
       "brand_volvo                  0\n",
       "notRepairedDamage_no         0\n",
       "notRepairedDamage_yes        1\n",
       "Name: 5, Length: 317, dtype: int64"
      ]
     },
     "execution_count": 336,
     "metadata": {},
     "output_type": "execute_result"
    }
   ],
   "source": [
    "test_df = df.iloc[5,:].copy()\n",
    "test_df"
   ]
  },
  {
   "cell_type": "code",
   "execution_count": 311,
   "metadata": {},
   "outputs": [
    {
     "name": "stderr",
     "output_type": "stream",
     "text": [
      "/Applications/anaconda3/lib/python3.7/site-packages/pandas/core/generic.py:3917: SettingWithCopyWarning: \n",
      "A value is trying to be set on a copy of a slice from a DataFrame\n",
      "\n",
      "See the caveats in the documentation: http://pandas.pydata.org/pandas-docs/stable/user_guide/indexing.html#returning-a-view-versus-a-copy\n",
      "  self._update_inplace(obj)\n"
     ]
    }
   ],
   "source": [
    "test_df.drop([\"price\"], inplace=True)"
   ]
  },
  {
   "cell_type": "code",
   "execution_count": 312,
   "metadata": {},
   "outputs": [
    {
     "data": {
      "text/plain": [
       "array([1163.48576702])"
      ]
     },
     "execution_count": 312,
     "metadata": {},
     "output_type": "execute_result"
    }
   ],
   "source": [
    "mlp_model.predict([test_df])"
   ]
  },
  {
   "cell_type": "code",
   "execution_count": 330,
   "metadata": {},
   "outputs": [
    {
     "data": {
      "text/plain": [
       "array([4630.])"
      ]
     },
     "execution_count": 330,
     "metadata": {},
     "output_type": "execute_result"
    }
   ],
   "source": [
    "knn_model.predict([aaa])"
   ]
  },
  {
   "cell_type": "code",
   "execution_count": 300,
   "metadata": {},
   "outputs": [
    {
     "name": "stdout",
     "output_type": "stream",
     "text": [
      "\n",
      "0.8330597693284005\n",
      "\n",
      "0.24772994330080197\n"
     ]
    },
    {
     "data": {
      "text/plain": [
       "<matplotlib.axes._subplots.AxesSubplot at 0x1a295b0a90>"
      ]
     },
     "execution_count": 300,
     "metadata": {},
     "output_type": "execute_result"
    },
    {
     "data": {
      "image/png": "[encoded data removed]",
      "text/plain": [
       "<Figure size 720x720 with 1 Axes>"
      ]
     },
     "metadata": {
      "needs_background": "light"
     },
     "output_type": "display_data"
    }
   ],
   "source": [
    "expected_y  = test_targ\n",
    "predicted_y = knn_model.predict(test_feat)\n",
    "\n",
    "print(); print(metrics.r2_score(expected_y, predicted_y))\n",
    "print(); print(metrics.mean_squared_log_error(expected_y, predicted_y))\n",
    "plt.figure(figsize=(10,10))\n",
    "sns.regplot(expected_y, predicted_y, fit_reg=True, scatter_kws={\"s\": 100})\n"
   ]
  },
  {
   "cell_type": "code",
   "execution_count": 97,
   "metadata": {},
   "outputs": [
    {
     "data": {
      "text/html": [
       "<div>\n",
       "<style scoped>\n",
       "    .dataframe tbody tr th:only-of-type {\n",
       "        vertical-align: middle;\n",
       "    }\n",
       "\n",
       "    .dataframe tbody tr th {\n",
       "        vertical-align: top;\n",
       "    }\n",
       "\n",
       "    .dataframe thead th {\n",
       "        text-align: right;\n",
       "    }\n",
       "</style>\n",
       "<table border=\"1\" class=\"dataframe\">\n",
       "  <thead>\n",
       "    <tr style=\"text-align: right;\">\n",
       "      <th></th>\n",
       "      <th>price</th>\n",
       "      <th>vehicleType</th>\n",
       "      <th>yearOfRegistration</th>\n",
       "      <th>gearbox</th>\n",
       "      <th>HPower</th>\n",
       "      <th>model</th>\n",
       "      <th>miles</th>\n",
       "      <th>monthOfRegistration</th>\n",
       "      <th>fuelType</th>\n",
       "      <th>brand</th>\n",
       "      <th>notRepairedDamage</th>\n",
       "    </tr>\n",
       "  </thead>\n",
       "  <tbody>\n",
       "    <tr>\n",
       "      <td>0</td>\n",
       "      <td>480</td>\n",
       "      <td>0</td>\n",
       "      <td>1993</td>\n",
       "      <td>0</td>\n",
       "      <td>0</td>\n",
       "      <td>0</td>\n",
       "      <td>93205</td>\n",
       "      <td>0</td>\n",
       "      <td>0</td>\n",
       "      <td>0</td>\n",
       "      <td>0</td>\n",
       "    </tr>\n",
       "    <tr>\n",
       "      <td>1</td>\n",
       "      <td>18300</td>\n",
       "      <td>1</td>\n",
       "      <td>2011</td>\n",
       "      <td>0</td>\n",
       "      <td>190</td>\n",
       "      <td>1</td>\n",
       "      <td>77671</td>\n",
       "      <td>5</td>\n",
       "      <td>1</td>\n",
       "      <td>1</td>\n",
       "      <td>1</td>\n",
       "    </tr>\n",
       "    <tr>\n",
       "      <td>2</td>\n",
       "      <td>9800</td>\n",
       "      <td>2</td>\n",
       "      <td>2004</td>\n",
       "      <td>1</td>\n",
       "      <td>163</td>\n",
       "      <td>2</td>\n",
       "      <td>77671</td>\n",
       "      <td>8</td>\n",
       "      <td>1</td>\n",
       "      <td>2</td>\n",
       "      <td>0</td>\n",
       "    </tr>\n",
       "    <tr>\n",
       "      <td>3</td>\n",
       "      <td>1500</td>\n",
       "      <td>3</td>\n",
       "      <td>2001</td>\n",
       "      <td>0</td>\n",
       "      <td>75</td>\n",
       "      <td>0</td>\n",
       "      <td>93205</td>\n",
       "      <td>6</td>\n",
       "      <td>0</td>\n",
       "      <td>0</td>\n",
       "      <td>0</td>\n",
       "    </tr>\n",
       "    <tr>\n",
       "      <td>4</td>\n",
       "      <td>3600</td>\n",
       "      <td>3</td>\n",
       "      <td>2008</td>\n",
       "      <td>0</td>\n",
       "      <td>69</td>\n",
       "      <td>3</td>\n",
       "      <td>55923</td>\n",
       "      <td>7</td>\n",
       "      <td>1</td>\n",
       "      <td>3</td>\n",
       "      <td>0</td>\n",
       "    </tr>\n",
       "    <tr>\n",
       "      <td>...</td>\n",
       "      <td>...</td>\n",
       "      <td>...</td>\n",
       "      <td>...</td>\n",
       "      <td>...</td>\n",
       "      <td>...</td>\n",
       "      <td>...</td>\n",
       "      <td>...</td>\n",
       "      <td>...</td>\n",
       "      <td>...</td>\n",
       "      <td>...</td>\n",
       "      <td>...</td>\n",
       "    </tr>\n",
       "    <tr>\n",
       "      <td>995</td>\n",
       "      <td>1999</td>\n",
       "      <td>5</td>\n",
       "      <td>1996</td>\n",
       "      <td>0</td>\n",
       "      <td>131</td>\n",
       "      <td>6</td>\n",
       "      <td>77671</td>\n",
       "      <td>4</td>\n",
       "      <td>0</td>\n",
       "      <td>15</td>\n",
       "      <td>0</td>\n",
       "    </tr>\n",
       "    <tr>\n",
       "      <td>996</td>\n",
       "      <td>139997</td>\n",
       "      <td>1</td>\n",
       "      <td>2010</td>\n",
       "      <td>0</td>\n",
       "      <td>435</td>\n",
       "      <td>152</td>\n",
       "      <td>12427</td>\n",
       "      <td>3</td>\n",
       "      <td>0</td>\n",
       "      <td>27</td>\n",
       "      <td>0</td>\n",
       "    </tr>\n",
       "    <tr>\n",
       "      <td>997</td>\n",
       "      <td>3999</td>\n",
       "      <td>5</td>\n",
       "      <td>2007</td>\n",
       "      <td>1</td>\n",
       "      <td>84</td>\n",
       "      <td>29</td>\n",
       "      <td>93205</td>\n",
       "      <td>9</td>\n",
       "      <td>0</td>\n",
       "      <td>17</td>\n",
       "      <td>0</td>\n",
       "    </tr>\n",
       "    <tr>\n",
       "      <td>998</td>\n",
       "      <td>2600</td>\n",
       "      <td>0</td>\n",
       "      <td>2017</td>\n",
       "      <td>1</td>\n",
       "      <td>101</td>\n",
       "      <td>9</td>\n",
       "      <td>93205</td>\n",
       "      <td>4</td>\n",
       "      <td>1</td>\n",
       "      <td>0</td>\n",
       "      <td>0</td>\n",
       "    </tr>\n",
       "    <tr>\n",
       "      <td>999</td>\n",
       "      <td>1500</td>\n",
       "      <td>1</td>\n",
       "      <td>2001</td>\n",
       "      <td>0</td>\n",
       "      <td>120</td>\n",
       "      <td>20</td>\n",
       "      <td>93205</td>\n",
       "      <td>3</td>\n",
       "      <td>0</td>\n",
       "      <td>14</td>\n",
       "      <td>0</td>\n",
       "    </tr>\n",
       "  </tbody>\n",
       "</table>\n",
       "<p>1000 rows × 11 columns</p>\n",
       "</div>"
      ],
      "text/plain": [
       "      price  vehicleType  yearOfRegistration  gearbox  HPower  model  miles  \\\n",
       "0       480            0                1993        0       0      0  93205   \n",
       "1     18300            1                2011        0     190      1  77671   \n",
       "2      9800            2                2004        1     163      2  77671   \n",
       "3      1500            3                2001        0      75      0  93205   \n",
       "4      3600            3                2008        0      69      3  55923   \n",
       "..      ...          ...                 ...      ...     ...    ...    ...   \n",
       "995    1999            5                1996        0     131      6  77671   \n",
       "996  139997            1                2010        0     435    152  12427   \n",
       "997    3999            5                2007        1      84     29  93205   \n",
       "998    2600            0                2017        1     101      9  93205   \n",
       "999    1500            1                2001        0     120     20  93205   \n",
       "\n",
       "     monthOfRegistration  fuelType  brand  notRepairedDamage  \n",
       "0                      0         0      0                  0  \n",
       "1                      5         1      1                  1  \n",
       "2                      8         1      2                  0  \n",
       "3                      6         0      0                  0  \n",
       "4                      7         1      3                  0  \n",
       "..                   ...       ...    ...                ...  \n",
       "995                    4         0     15                  0  \n",
       "996                    3         0     27                  0  \n",
       "997                    9         0     17                  0  \n",
       "998                    4         1      0                  0  \n",
       "999                    3         0     14                  0  \n",
       "\n",
       "[1000 rows x 11 columns]"
      ]
     },
     "execution_count": 97,
     "metadata": {},
     "output_type": "execute_result"
    }
   ],
   "source": [
    "df.head(1000)"
   ]
  },
  {
   "cell_type": "code",
   "execution_count": null,
   "metadata": {},
   "outputs": [],
   "source": []
  }
 ],
 "metadata": {
  "kernelspec": {
   "display_name": "Python 3",
   "language": "python",
   "name": "python3"
  },
  "language_info": {
   "codemirror_mode": {
    "name": "ipython",
    "version": 3
   },
   "file_extension": ".py",
   "mimetype": "text/x-python",
   "name": "python",
   "nbconvert_exporter": "python",
   "pygments_lexer": "ipython3",
   "version": "3.7.4"
  }
 },
 "nbformat": 4,
 "nbformat_minor": 2
}
